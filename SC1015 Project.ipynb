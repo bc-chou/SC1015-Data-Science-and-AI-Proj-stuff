{
 "cells": [
  {
   "cell_type": "markdown",
   "id": "5d509714",
   "metadata": {},
   "source": [
    "# SC13 Team 8"
   ]
  },
  {
   "cell_type": "code",
   "execution_count": 93,
   "id": "6debdaaa",
   "metadata": {},
   "outputs": [],
   "source": [
    "# Basic Libraries\n",
    "import numpy as np\n",
    "import pandas as pd\n",
    "import seaborn as sb\n",
    "import matplotlib.pyplot as plt # we only need pyplot\n",
    "sb.set() # set the default Seaborn style for graphics"
   ]
  },
  {
   "cell_type": "markdown",
   "id": "663289ba",
   "metadata": {},
   "source": [
    "# Practical Motivation"
   ]
  },
  {
   "cell_type": "markdown",
   "id": "b8045288",
   "metadata": {},
   "source": [
    "Kickstarter is a corporation that maintains a crowdfunding platform for creative projects. To date, over USD 6 Billion dollars have been pledged to kickstarter projects with over 200,000 successfully funded projects. However, over 300,000 projects are unsuccessful in funding.\n",
    "\n",
    "How can kickstarter campaign starters reduce their chances of failing?\n",
    "\n",
    "Problem definition: How do different variables affect the failure of kickstarter campaigns?"
   ]
  },
  {
   "cell_type": "markdown",
   "id": "d8ad48fc",
   "metadata": {},
   "source": [
    "# Data Extraction"
   ]
  },
  {
   "cell_type": "markdown",
   "id": "197d232d",
   "metadata": {},
   "source": [
    "Since Kickstarter does not have a public api, we are not going to scrape off their website using available tools. Instead, we will use the 2018 dataset from Kaggle."
   ]
  },
  {
   "cell_type": "code",
   "execution_count": 94,
   "id": "7998a820",
   "metadata": {},
   "outputs": [],
   "source": [
    "ksData = pd.read_csv('ks-projects-201801.csv')"
   ]
  },
  {
   "cell_type": "code",
   "execution_count": 95,
   "id": "0ca773be",
   "metadata": {},
   "outputs": [
    {
     "data": {
      "text/html": [
       "<div>\n",
       "<style scoped>\n",
       "    .dataframe tbody tr th:only-of-type {\n",
       "        vertical-align: middle;\n",
       "    }\n",
       "\n",
       "    .dataframe tbody tr th {\n",
       "        vertical-align: top;\n",
       "    }\n",
       "\n",
       "    .dataframe thead th {\n",
       "        text-align: right;\n",
       "    }\n",
       "</style>\n",
       "<table border=\"1\" class=\"dataframe\">\n",
       "  <thead>\n",
       "    <tr style=\"text-align: right;\">\n",
       "      <th></th>\n",
       "      <th>ID</th>\n",
       "      <th>name</th>\n",
       "      <th>category</th>\n",
       "      <th>main_category</th>\n",
       "      <th>currency</th>\n",
       "      <th>deadline</th>\n",
       "      <th>goal</th>\n",
       "      <th>launched</th>\n",
       "      <th>pledged</th>\n",
       "      <th>state</th>\n",
       "      <th>backers</th>\n",
       "      <th>country</th>\n",
       "      <th>usd pledged</th>\n",
       "      <th>usd_pledged_real</th>\n",
       "      <th>usd_goal_real</th>\n",
       "    </tr>\n",
       "  </thead>\n",
       "  <tbody>\n",
       "    <tr>\n",
       "      <th>0</th>\n",
       "      <td>1000002330</td>\n",
       "      <td>The Songs of Adelaide &amp; Abullah</td>\n",
       "      <td>Poetry</td>\n",
       "      <td>Publishing</td>\n",
       "      <td>GBP</td>\n",
       "      <td>2015-10-09</td>\n",
       "      <td>1000.0</td>\n",
       "      <td>2015-08-11 12:12:28</td>\n",
       "      <td>0.0</td>\n",
       "      <td>failed</td>\n",
       "      <td>0</td>\n",
       "      <td>GB</td>\n",
       "      <td>0.0</td>\n",
       "      <td>0.0</td>\n",
       "      <td>1533.95</td>\n",
       "    </tr>\n",
       "    <tr>\n",
       "      <th>1</th>\n",
       "      <td>1000003930</td>\n",
       "      <td>Greeting From Earth: ZGAC Arts Capsule For ET</td>\n",
       "      <td>Narrative Film</td>\n",
       "      <td>Film &amp; Video</td>\n",
       "      <td>USD</td>\n",
       "      <td>2017-11-01</td>\n",
       "      <td>30000.0</td>\n",
       "      <td>2017-09-02 04:43:57</td>\n",
       "      <td>2421.0</td>\n",
       "      <td>failed</td>\n",
       "      <td>15</td>\n",
       "      <td>US</td>\n",
       "      <td>100.0</td>\n",
       "      <td>2421.0</td>\n",
       "      <td>30000.00</td>\n",
       "    </tr>\n",
       "    <tr>\n",
       "      <th>2</th>\n",
       "      <td>1000004038</td>\n",
       "      <td>Where is Hank?</td>\n",
       "      <td>Narrative Film</td>\n",
       "      <td>Film &amp; Video</td>\n",
       "      <td>USD</td>\n",
       "      <td>2013-02-26</td>\n",
       "      <td>45000.0</td>\n",
       "      <td>2013-01-12 00:20:50</td>\n",
       "      <td>220.0</td>\n",
       "      <td>failed</td>\n",
       "      <td>3</td>\n",
       "      <td>US</td>\n",
       "      <td>220.0</td>\n",
       "      <td>220.0</td>\n",
       "      <td>45000.00</td>\n",
       "    </tr>\n",
       "    <tr>\n",
       "      <th>3</th>\n",
       "      <td>1000007540</td>\n",
       "      <td>ToshiCapital Rekordz Needs Help to Complete Album</td>\n",
       "      <td>Music</td>\n",
       "      <td>Music</td>\n",
       "      <td>USD</td>\n",
       "      <td>2012-04-16</td>\n",
       "      <td>5000.0</td>\n",
       "      <td>2012-03-17 03:24:11</td>\n",
       "      <td>1.0</td>\n",
       "      <td>failed</td>\n",
       "      <td>1</td>\n",
       "      <td>US</td>\n",
       "      <td>1.0</td>\n",
       "      <td>1.0</td>\n",
       "      <td>5000.00</td>\n",
       "    </tr>\n",
       "    <tr>\n",
       "      <th>4</th>\n",
       "      <td>1000011046</td>\n",
       "      <td>Community Film Project: The Art of Neighborhoo...</td>\n",
       "      <td>Film &amp; Video</td>\n",
       "      <td>Film &amp; Video</td>\n",
       "      <td>USD</td>\n",
       "      <td>2015-08-29</td>\n",
       "      <td>19500.0</td>\n",
       "      <td>2015-07-04 08:35:03</td>\n",
       "      <td>1283.0</td>\n",
       "      <td>canceled</td>\n",
       "      <td>14</td>\n",
       "      <td>US</td>\n",
       "      <td>1283.0</td>\n",
       "      <td>1283.0</td>\n",
       "      <td>19500.00</td>\n",
       "    </tr>\n",
       "  </tbody>\n",
       "</table>\n",
       "</div>"
      ],
      "text/plain": [
       "           ID                                               name  \\\n",
       "0  1000002330                    The Songs of Adelaide & Abullah   \n",
       "1  1000003930      Greeting From Earth: ZGAC Arts Capsule For ET   \n",
       "2  1000004038                                     Where is Hank?   \n",
       "3  1000007540  ToshiCapital Rekordz Needs Help to Complete Album   \n",
       "4  1000011046  Community Film Project: The Art of Neighborhoo...   \n",
       "\n",
       "         category main_category currency    deadline     goal  \\\n",
       "0          Poetry    Publishing      GBP  2015-10-09   1000.0   \n",
       "1  Narrative Film  Film & Video      USD  2017-11-01  30000.0   \n",
       "2  Narrative Film  Film & Video      USD  2013-02-26  45000.0   \n",
       "3           Music         Music      USD  2012-04-16   5000.0   \n",
       "4    Film & Video  Film & Video      USD  2015-08-29  19500.0   \n",
       "\n",
       "              launched  pledged     state  backers country  usd pledged  \\\n",
       "0  2015-08-11 12:12:28      0.0    failed        0      GB          0.0   \n",
       "1  2017-09-02 04:43:57   2421.0    failed       15      US        100.0   \n",
       "2  2013-01-12 00:20:50    220.0    failed        3      US        220.0   \n",
       "3  2012-03-17 03:24:11      1.0    failed        1      US          1.0   \n",
       "4  2015-07-04 08:35:03   1283.0  canceled       14      US       1283.0   \n",
       "\n",
       "   usd_pledged_real  usd_goal_real  \n",
       "0               0.0        1533.95  \n",
       "1            2421.0       30000.00  \n",
       "2             220.0       45000.00  \n",
       "3               1.0        5000.00  \n",
       "4            1283.0       19500.00  "
      ]
     },
     "execution_count": 95,
     "metadata": {},
     "output_type": "execute_result"
    }
   ],
   "source": [
    "ksData.head()"
   ]
  },
  {
   "cell_type": "code",
   "execution_count": 96,
   "id": "b60ff28d",
   "metadata": {},
   "outputs": [
    {
     "data": {
      "text/plain": [
       "(378661, 15)"
      ]
     },
     "execution_count": 96,
     "metadata": {},
     "output_type": "execute_result"
    }
   ],
   "source": [
    "ksData.shape"
   ]
  },
  {
   "cell_type": "markdown",
   "id": "a26f274b",
   "metadata": {},
   "source": [
    "The 2018 dataset has a size of 378661 x 15."
   ]
  },
  {
   "cell_type": "markdown",
   "id": "5b2f3b83",
   "metadata": {},
   "source": [
    "# Data Cleaning and Preparation"
   ]
  },
  {
   "cell_type": "markdown",
   "id": "3198acf5",
   "metadata": {},
   "source": [
    "First, let us explore the different variables we're working with to make sure only relevant data is kept."
   ]
  },
  {
   "cell_type": "code",
   "execution_count": 97,
   "id": "c70b3393",
   "metadata": {},
   "outputs": [
    {
     "name": "stdout",
     "output_type": "stream",
     "text": [
      "ID\n",
      "name\n",
      "category\n",
      "main_category\n",
      "currency\n",
      "deadline\n",
      "goal\n",
      "launched\n",
      "pledged\n",
      "state\n",
      "backers\n",
      "country\n",
      "usd pledged\n",
      "usd_pledged_real\n",
      "usd_goal_real\n"
     ]
    }
   ],
   "source": [
    "for col in ksData.columns:\n",
    "    print(col)"
   ]
  },
  {
   "cell_type": "markdown",
   "id": "289a59c6",
   "metadata": {},
   "source": [
    "Since we are exploring how different variables affect the failure of kickstarter campaigns, we will first remove the variables that do not affect the failure at all.\n",
    "\n",
    "These variables include:\n",
    "\n",
    "ID - since ID is a unique tag given by Kickstarter, it does not have any meaning\n",
    "\n",
    "currency - whether it is in USD or GBP, the value is equal when converted, it does not matter.\n",
    "\n",
    "country- since Kickstarter is a global platform, although success rates may vary by country, changing the country to reduce the failure rates is not feasible."
   ]
  },
  {
   "cell_type": "code",
   "execution_count": 98,
   "id": "e3637c10",
   "metadata": {},
   "outputs": [],
   "source": [
    "ksData.drop(columns=['ID','currency','country'], inplace = True)"
   ]
  },
  {
   "cell_type": "markdown",
   "id": "f9324d43",
   "metadata": {},
   "source": [
    "Next, we remove any variables that are tied to our response variable \"state\" since they do not give additional insight.\n",
    "\n",
    "These variables include: pledged, backers, usd pledged and usd_pledged_real."
   ]
  },
  {
   "cell_type": "code",
   "execution_count": 99,
   "id": "c2524693",
   "metadata": {},
   "outputs": [],
   "source": [
    "ksData.drop(columns=['pledged', 'backers', 'usd pledged', 'usd_pledged_real'], inplace = True)"
   ]
  },
  {
   "cell_type": "markdown",
   "id": "7c72e522",
   "metadata": {},
   "source": [
    "Since we are already using main_category, we can exclude category as a variable. Same case for goal and usd_goal_real"
   ]
  },
  {
   "cell_type": "code",
   "execution_count": 100,
   "id": "033d442d",
   "metadata": {},
   "outputs": [],
   "source": [
    "ksData.drop(columns=['category', 'goal'], inplace = True)"
   ]
  },
  {
   "cell_type": "code",
   "execution_count": 101,
   "id": "c1308460",
   "metadata": {},
   "outputs": [
    {
     "name": "stdout",
     "output_type": "stream",
     "text": [
      "name\n",
      "main_category\n",
      "deadline\n",
      "launched\n",
      "state\n",
      "usd_goal_real\n"
     ]
    }
   ],
   "source": [
    "for col in ksData.columns:\n",
    "    print(col)"
   ]
  },
  {
   "cell_type": "markdown",
   "id": "cb4e12db",
   "metadata": {},
   "source": [
    "We are left with the following predictor variables: name, main_category, deadline, launched\n",
    "\n",
    "and our response variable is 'state'.\n",
    "\n",
    "Before we turn the predictor variables into more meaningful data, we will remove any null values from the dataset."
   ]
  },
  {
   "cell_type": "code",
   "execution_count": 102,
   "id": "46a52048",
   "metadata": {},
   "outputs": [
    {
     "data": {
      "text/plain": [
       "name             4\n",
       "main_category    0\n",
       "deadline         0\n",
       "launched         0\n",
       "state            0\n",
       "usd_goal_real    0\n",
       "dtype: int64"
      ]
     },
     "execution_count": 102,
     "metadata": {},
     "output_type": "execute_result"
    }
   ],
   "source": [
    "ksData.isnull().sum()"
   ]
  },
  {
   "cell_type": "code",
   "execution_count": 103,
   "id": "a1b8b257",
   "metadata": {},
   "outputs": [],
   "source": [
    "ksData.dropna(inplace=True)"
   ]
  },
  {
   "cell_type": "code",
   "execution_count": 104,
   "id": "91a2cdd5",
   "metadata": {},
   "outputs": [
    {
     "name": "stdout",
     "output_type": "stream",
     "text": [
      "<class 'pandas.core.frame.DataFrame'>\n",
      "Int64Index: 378657 entries, 0 to 378660\n",
      "Data columns (total 6 columns):\n",
      " #   Column         Non-Null Count   Dtype  \n",
      "---  ------         --------------   -----  \n",
      " 0   name           378657 non-null  object \n",
      " 1   main_category  378657 non-null  object \n",
      " 2   deadline       378657 non-null  object \n",
      " 3   launched       378657 non-null  object \n",
      " 4   state          378657 non-null  object \n",
      " 5   usd_goal_real  378657 non-null  float64\n",
      "dtypes: float64(1), object(5)\n",
      "memory usage: 20.2+ MB\n"
     ]
    }
   ],
   "source": [
    "ksData.info()"
   ]
  },
  {
   "cell_type": "markdown",
   "id": "ac8de8ba",
   "metadata": {},
   "source": [
    "Now that we have confirmed that we have no missing values in our dataset, we can proceed to prepare the predictor variables."
   ]
  },
  {
   "cell_type": "code",
   "execution_count": 105,
   "id": "0fcb5eee",
   "metadata": {},
   "outputs": [
    {
     "data": {
      "text/plain": [
       "0                           The Songs of Adelaide & Abullah\n",
       "1             Greeting From Earth: ZGAC Arts Capsule For ET\n",
       "2                                            Where is Hank?\n",
       "3         ToshiCapital Rekordz Needs Help to Complete Album\n",
       "4         Community Film Project: The Art of Neighborhoo...\n",
       "                                ...                        \n",
       "378656    ChknTruk Nationwide Charity Drive 2014 (Canceled)\n",
       "378657                                            The Tribe\n",
       "378658    Walls of Remedy- New lesbian Romantic Comedy f...\n",
       "378659                             BioDefense Education Kit\n",
       "378660                    Nou Renmen Ayiti!  We Love Haiti!\n",
       "Name: name, Length: 378657, dtype: object"
      ]
     },
     "execution_count": 105,
     "metadata": {},
     "output_type": "execute_result"
    }
   ],
   "source": [
    "ksData['name']"
   ]
  },
  {
   "cell_type": "markdown",
   "id": "bd2d90ed",
   "metadata": {},
   "source": [
    "The 'name' is just a string of words, we need to turn this into more meaningful data to be used in our machine learning model.\n",
    "\n",
    "We will create a new column called 'name_length', which is the length of the name in characters. This will be used in our machine learning model. 'name' will be kept for later text visualisation purposes in EDA.\n"
   ]
  },
  {
   "cell_type": "code",
   "execution_count": 106,
   "id": "7bbe7f93",
   "metadata": {},
   "outputs": [],
   "source": [
    "ksData['name_length'] = ksData['name'].str.len()"
   ]
  },
  {
   "cell_type": "markdown",
   "id": "17d5be46",
   "metadata": {},
   "source": [
    "Similarly, 'launched' and 'deadline' itself does not help us decipher any useful information. Instead, we can consider the campaign length, computed using deadline-launched. A measure of campaign length will help us understand the appropriate or inappropriate length for campaigns.\n",
    "\n",
    "'campaign_length' will be measured in days for better rounding of data."
   ]
  },
  {
   "cell_type": "code",
   "execution_count": 107,
   "id": "dd870357",
   "metadata": {},
   "outputs": [],
   "source": [
    "ksData['launched'] = pd.to_datetime(ksData['launched'])\n",
    "ksData['launched_date'] = ksData['launched'].dt.date\n",
    "\n",
    "ksData['deadline'] = pd.to_datetime(ksData['deadline'])\n",
    "ksData['deadline_date'] = ksData['deadline'].dt.date\n",
    "\n",
    "ksData['campaign_length'] = (ksData['deadline_date'] - ksData['launched_date']).dt.days\n",
    "ksData['campaign_length'] = ksData['campaign_length'].astype(int)\n"
   ]
  },
  {
   "cell_type": "markdown",
   "id": "ccebe224",
   "metadata": {},
   "source": [
    "We can remove the launched and dateline columns afterwards."
   ]
  },
  {
   "cell_type": "code",
   "execution_count": 108,
   "id": "c98024e0",
   "metadata": {},
   "outputs": [],
   "source": [
    "ksData.drop(columns=['launched', 'deadline', 'launched_date', 'deadline_date'], inplace = True)"
   ]
  },
  {
   "cell_type": "markdown",
   "id": "aefe91a2",
   "metadata": {},
   "source": [
    "-PROGRESS CHECK-\n",
    "Take a look at what the dataset looks like now"
   ]
  },
  {
   "cell_type": "code",
   "execution_count": 109,
   "id": "37895d63",
   "metadata": {},
   "outputs": [
    {
     "data": {
      "text/html": [
       "<div>\n",
       "<style scoped>\n",
       "    .dataframe tbody tr th:only-of-type {\n",
       "        vertical-align: middle;\n",
       "    }\n",
       "\n",
       "    .dataframe tbody tr th {\n",
       "        vertical-align: top;\n",
       "    }\n",
       "\n",
       "    .dataframe thead th {\n",
       "        text-align: right;\n",
       "    }\n",
       "</style>\n",
       "<table border=\"1\" class=\"dataframe\">\n",
       "  <thead>\n",
       "    <tr style=\"text-align: right;\">\n",
       "      <th></th>\n",
       "      <th>name</th>\n",
       "      <th>main_category</th>\n",
       "      <th>state</th>\n",
       "      <th>usd_goal_real</th>\n",
       "      <th>name_length</th>\n",
       "      <th>campaign_length</th>\n",
       "    </tr>\n",
       "  </thead>\n",
       "  <tbody>\n",
       "    <tr>\n",
       "      <th>0</th>\n",
       "      <td>The Songs of Adelaide &amp; Abullah</td>\n",
       "      <td>Publishing</td>\n",
       "      <td>failed</td>\n",
       "      <td>1533.95</td>\n",
       "      <td>31</td>\n",
       "      <td>59</td>\n",
       "    </tr>\n",
       "    <tr>\n",
       "      <th>1</th>\n",
       "      <td>Greeting From Earth: ZGAC Arts Capsule For ET</td>\n",
       "      <td>Film &amp; Video</td>\n",
       "      <td>failed</td>\n",
       "      <td>30000.00</td>\n",
       "      <td>45</td>\n",
       "      <td>60</td>\n",
       "    </tr>\n",
       "    <tr>\n",
       "      <th>2</th>\n",
       "      <td>Where is Hank?</td>\n",
       "      <td>Film &amp; Video</td>\n",
       "      <td>failed</td>\n",
       "      <td>45000.00</td>\n",
       "      <td>14</td>\n",
       "      <td>45</td>\n",
       "    </tr>\n",
       "    <tr>\n",
       "      <th>3</th>\n",
       "      <td>ToshiCapital Rekordz Needs Help to Complete Album</td>\n",
       "      <td>Music</td>\n",
       "      <td>failed</td>\n",
       "      <td>5000.00</td>\n",
       "      <td>49</td>\n",
       "      <td>30</td>\n",
       "    </tr>\n",
       "    <tr>\n",
       "      <th>4</th>\n",
       "      <td>Community Film Project: The Art of Neighborhoo...</td>\n",
       "      <td>Film &amp; Video</td>\n",
       "      <td>canceled</td>\n",
       "      <td>19500.00</td>\n",
       "      <td>58</td>\n",
       "      <td>56</td>\n",
       "    </tr>\n",
       "    <tr>\n",
       "      <th>...</th>\n",
       "      <td>...</td>\n",
       "      <td>...</td>\n",
       "      <td>...</td>\n",
       "      <td>...</td>\n",
       "      <td>...</td>\n",
       "      <td>...</td>\n",
       "    </tr>\n",
       "    <tr>\n",
       "      <th>378656</th>\n",
       "      <td>ChknTruk Nationwide Charity Drive 2014 (Canceled)</td>\n",
       "      <td>Film &amp; Video</td>\n",
       "      <td>canceled</td>\n",
       "      <td>50000.00</td>\n",
       "      <td>49</td>\n",
       "      <td>30</td>\n",
       "    </tr>\n",
       "    <tr>\n",
       "      <th>378657</th>\n",
       "      <td>The Tribe</td>\n",
       "      <td>Film &amp; Video</td>\n",
       "      <td>failed</td>\n",
       "      <td>1500.00</td>\n",
       "      <td>9</td>\n",
       "      <td>27</td>\n",
       "    </tr>\n",
       "    <tr>\n",
       "      <th>378658</th>\n",
       "      <td>Walls of Remedy- New lesbian Romantic Comedy f...</td>\n",
       "      <td>Film &amp; Video</td>\n",
       "      <td>failed</td>\n",
       "      <td>15000.00</td>\n",
       "      <td>71</td>\n",
       "      <td>46</td>\n",
       "    </tr>\n",
       "    <tr>\n",
       "      <th>378659</th>\n",
       "      <td>BioDefense Education Kit</td>\n",
       "      <td>Technology</td>\n",
       "      <td>failed</td>\n",
       "      <td>15000.00</td>\n",
       "      <td>24</td>\n",
       "      <td>31</td>\n",
       "    </tr>\n",
       "    <tr>\n",
       "      <th>378660</th>\n",
       "      <td>Nou Renmen Ayiti!  We Love Haiti!</td>\n",
       "      <td>Art</td>\n",
       "      <td>failed</td>\n",
       "      <td>2000.00</td>\n",
       "      <td>33</td>\n",
       "      <td>28</td>\n",
       "    </tr>\n",
       "  </tbody>\n",
       "</table>\n",
       "<p>378657 rows × 6 columns</p>\n",
       "</div>"
      ],
      "text/plain": [
       "                                                     name main_category  \\\n",
       "0                         The Songs of Adelaide & Abullah    Publishing   \n",
       "1           Greeting From Earth: ZGAC Arts Capsule For ET  Film & Video   \n",
       "2                                          Where is Hank?  Film & Video   \n",
       "3       ToshiCapital Rekordz Needs Help to Complete Album         Music   \n",
       "4       Community Film Project: The Art of Neighborhoo...  Film & Video   \n",
       "...                                                   ...           ...   \n",
       "378656  ChknTruk Nationwide Charity Drive 2014 (Canceled)  Film & Video   \n",
       "378657                                          The Tribe  Film & Video   \n",
       "378658  Walls of Remedy- New lesbian Romantic Comedy f...  Film & Video   \n",
       "378659                           BioDefense Education Kit    Technology   \n",
       "378660                  Nou Renmen Ayiti!  We Love Haiti!           Art   \n",
       "\n",
       "           state  usd_goal_real  name_length  campaign_length  \n",
       "0         failed        1533.95           31               59  \n",
       "1         failed       30000.00           45               60  \n",
       "2         failed       45000.00           14               45  \n",
       "3         failed        5000.00           49               30  \n",
       "4       canceled       19500.00           58               56  \n",
       "...          ...            ...          ...              ...  \n",
       "378656  canceled       50000.00           49               30  \n",
       "378657    failed        1500.00            9               27  \n",
       "378658    failed       15000.00           71               46  \n",
       "378659    failed       15000.00           24               31  \n",
       "378660    failed        2000.00           33               28  \n",
       "\n",
       "[378657 rows x 6 columns]"
      ]
     },
     "execution_count": 109,
     "metadata": {},
     "output_type": "execute_result"
    }
   ],
   "source": [
    "ksData"
   ]
  },
  {
   "cell_type": "markdown",
   "id": "1803ad60",
   "metadata": {},
   "source": [
    "Next, we will turn 'main_category' into numerical data through one-hot encoding for the different types of categories.\n",
    "We avoid using label encoding here to avoid any misunderstanding that one category is better than the other."
   ]
  },
  {
   "cell_type": "code",
   "execution_count": 110,
   "id": "e6350d21",
   "metadata": {},
   "outputs": [],
   "source": [
    "one_hot_data = pd.get_dummies(ksData['main_category'])"
   ]
  },
  {
   "cell_type": "code",
   "execution_count": 111,
   "id": "11de0397",
   "metadata": {},
   "outputs": [
    {
     "data": {
      "text/html": [
       "<div>\n",
       "<style scoped>\n",
       "    .dataframe tbody tr th:only-of-type {\n",
       "        vertical-align: middle;\n",
       "    }\n",
       "\n",
       "    .dataframe tbody tr th {\n",
       "        vertical-align: top;\n",
       "    }\n",
       "\n",
       "    .dataframe thead th {\n",
       "        text-align: right;\n",
       "    }\n",
       "</style>\n",
       "<table border=\"1\" class=\"dataframe\">\n",
       "  <thead>\n",
       "    <tr style=\"text-align: right;\">\n",
       "      <th></th>\n",
       "      <th>Art</th>\n",
       "      <th>Comics</th>\n",
       "      <th>Crafts</th>\n",
       "      <th>Dance</th>\n",
       "      <th>Design</th>\n",
       "      <th>Fashion</th>\n",
       "      <th>Film &amp; Video</th>\n",
       "      <th>Food</th>\n",
       "      <th>Games</th>\n",
       "      <th>Journalism</th>\n",
       "      <th>Music</th>\n",
       "      <th>Photography</th>\n",
       "      <th>Publishing</th>\n",
       "      <th>Technology</th>\n",
       "      <th>Theater</th>\n",
       "    </tr>\n",
       "  </thead>\n",
       "  <tbody>\n",
       "    <tr>\n",
       "      <th>0</th>\n",
       "      <td>0</td>\n",
       "      <td>0</td>\n",
       "      <td>0</td>\n",
       "      <td>0</td>\n",
       "      <td>0</td>\n",
       "      <td>0</td>\n",
       "      <td>0</td>\n",
       "      <td>0</td>\n",
       "      <td>0</td>\n",
       "      <td>0</td>\n",
       "      <td>0</td>\n",
       "      <td>0</td>\n",
       "      <td>1</td>\n",
       "      <td>0</td>\n",
       "      <td>0</td>\n",
       "    </tr>\n",
       "    <tr>\n",
       "      <th>1</th>\n",
       "      <td>0</td>\n",
       "      <td>0</td>\n",
       "      <td>0</td>\n",
       "      <td>0</td>\n",
       "      <td>0</td>\n",
       "      <td>0</td>\n",
       "      <td>1</td>\n",
       "      <td>0</td>\n",
       "      <td>0</td>\n",
       "      <td>0</td>\n",
       "      <td>0</td>\n",
       "      <td>0</td>\n",
       "      <td>0</td>\n",
       "      <td>0</td>\n",
       "      <td>0</td>\n",
       "    </tr>\n",
       "    <tr>\n",
       "      <th>2</th>\n",
       "      <td>0</td>\n",
       "      <td>0</td>\n",
       "      <td>0</td>\n",
       "      <td>0</td>\n",
       "      <td>0</td>\n",
       "      <td>0</td>\n",
       "      <td>1</td>\n",
       "      <td>0</td>\n",
       "      <td>0</td>\n",
       "      <td>0</td>\n",
       "      <td>0</td>\n",
       "      <td>0</td>\n",
       "      <td>0</td>\n",
       "      <td>0</td>\n",
       "      <td>0</td>\n",
       "    </tr>\n",
       "    <tr>\n",
       "      <th>3</th>\n",
       "      <td>0</td>\n",
       "      <td>0</td>\n",
       "      <td>0</td>\n",
       "      <td>0</td>\n",
       "      <td>0</td>\n",
       "      <td>0</td>\n",
       "      <td>0</td>\n",
       "      <td>0</td>\n",
       "      <td>0</td>\n",
       "      <td>0</td>\n",
       "      <td>1</td>\n",
       "      <td>0</td>\n",
       "      <td>0</td>\n",
       "      <td>0</td>\n",
       "      <td>0</td>\n",
       "    </tr>\n",
       "    <tr>\n",
       "      <th>4</th>\n",
       "      <td>0</td>\n",
       "      <td>0</td>\n",
       "      <td>0</td>\n",
       "      <td>0</td>\n",
       "      <td>0</td>\n",
       "      <td>0</td>\n",
       "      <td>1</td>\n",
       "      <td>0</td>\n",
       "      <td>0</td>\n",
       "      <td>0</td>\n",
       "      <td>0</td>\n",
       "      <td>0</td>\n",
       "      <td>0</td>\n",
       "      <td>0</td>\n",
       "      <td>0</td>\n",
       "    </tr>\n",
       "    <tr>\n",
       "      <th>...</th>\n",
       "      <td>...</td>\n",
       "      <td>...</td>\n",
       "      <td>...</td>\n",
       "      <td>...</td>\n",
       "      <td>...</td>\n",
       "      <td>...</td>\n",
       "      <td>...</td>\n",
       "      <td>...</td>\n",
       "      <td>...</td>\n",
       "      <td>...</td>\n",
       "      <td>...</td>\n",
       "      <td>...</td>\n",
       "      <td>...</td>\n",
       "      <td>...</td>\n",
       "      <td>...</td>\n",
       "    </tr>\n",
       "    <tr>\n",
       "      <th>378656</th>\n",
       "      <td>0</td>\n",
       "      <td>0</td>\n",
       "      <td>0</td>\n",
       "      <td>0</td>\n",
       "      <td>0</td>\n",
       "      <td>0</td>\n",
       "      <td>1</td>\n",
       "      <td>0</td>\n",
       "      <td>0</td>\n",
       "      <td>0</td>\n",
       "      <td>0</td>\n",
       "      <td>0</td>\n",
       "      <td>0</td>\n",
       "      <td>0</td>\n",
       "      <td>0</td>\n",
       "    </tr>\n",
       "    <tr>\n",
       "      <th>378657</th>\n",
       "      <td>0</td>\n",
       "      <td>0</td>\n",
       "      <td>0</td>\n",
       "      <td>0</td>\n",
       "      <td>0</td>\n",
       "      <td>0</td>\n",
       "      <td>1</td>\n",
       "      <td>0</td>\n",
       "      <td>0</td>\n",
       "      <td>0</td>\n",
       "      <td>0</td>\n",
       "      <td>0</td>\n",
       "      <td>0</td>\n",
       "      <td>0</td>\n",
       "      <td>0</td>\n",
       "    </tr>\n",
       "    <tr>\n",
       "      <th>378658</th>\n",
       "      <td>0</td>\n",
       "      <td>0</td>\n",
       "      <td>0</td>\n",
       "      <td>0</td>\n",
       "      <td>0</td>\n",
       "      <td>0</td>\n",
       "      <td>1</td>\n",
       "      <td>0</td>\n",
       "      <td>0</td>\n",
       "      <td>0</td>\n",
       "      <td>0</td>\n",
       "      <td>0</td>\n",
       "      <td>0</td>\n",
       "      <td>0</td>\n",
       "      <td>0</td>\n",
       "    </tr>\n",
       "    <tr>\n",
       "      <th>378659</th>\n",
       "      <td>0</td>\n",
       "      <td>0</td>\n",
       "      <td>0</td>\n",
       "      <td>0</td>\n",
       "      <td>0</td>\n",
       "      <td>0</td>\n",
       "      <td>0</td>\n",
       "      <td>0</td>\n",
       "      <td>0</td>\n",
       "      <td>0</td>\n",
       "      <td>0</td>\n",
       "      <td>0</td>\n",
       "      <td>0</td>\n",
       "      <td>1</td>\n",
       "      <td>0</td>\n",
       "    </tr>\n",
       "    <tr>\n",
       "      <th>378660</th>\n",
       "      <td>1</td>\n",
       "      <td>0</td>\n",
       "      <td>0</td>\n",
       "      <td>0</td>\n",
       "      <td>0</td>\n",
       "      <td>0</td>\n",
       "      <td>0</td>\n",
       "      <td>0</td>\n",
       "      <td>0</td>\n",
       "      <td>0</td>\n",
       "      <td>0</td>\n",
       "      <td>0</td>\n",
       "      <td>0</td>\n",
       "      <td>0</td>\n",
       "      <td>0</td>\n",
       "    </tr>\n",
       "  </tbody>\n",
       "</table>\n",
       "<p>378657 rows × 15 columns</p>\n",
       "</div>"
      ],
      "text/plain": [
       "        Art  Comics  Crafts  Dance  Design  Fashion  Film & Video  Food  \\\n",
       "0         0       0       0      0       0        0             0     0   \n",
       "1         0       0       0      0       0        0             1     0   \n",
       "2         0       0       0      0       0        0             1     0   \n",
       "3         0       0       0      0       0        0             0     0   \n",
       "4         0       0       0      0       0        0             1     0   \n",
       "...     ...     ...     ...    ...     ...      ...           ...   ...   \n",
       "378656    0       0       0      0       0        0             1     0   \n",
       "378657    0       0       0      0       0        0             1     0   \n",
       "378658    0       0       0      0       0        0             1     0   \n",
       "378659    0       0       0      0       0        0             0     0   \n",
       "378660    1       0       0      0       0        0             0     0   \n",
       "\n",
       "        Games  Journalism  Music  Photography  Publishing  Technology  Theater  \n",
       "0           0           0      0            0           1           0        0  \n",
       "1           0           0      0            0           0           0        0  \n",
       "2           0           0      0            0           0           0        0  \n",
       "3           0           0      1            0           0           0        0  \n",
       "4           0           0      0            0           0           0        0  \n",
       "...       ...         ...    ...          ...         ...         ...      ...  \n",
       "378656      0           0      0            0           0           0        0  \n",
       "378657      0           0      0            0           0           0        0  \n",
       "378658      0           0      0            0           0           0        0  \n",
       "378659      0           0      0            0           0           1        0  \n",
       "378660      0           0      0            0           0           0        0  \n",
       "\n",
       "[378657 rows x 15 columns]"
      ]
     },
     "execution_count": 111,
     "metadata": {},
     "output_type": "execute_result"
    }
   ],
   "source": [
    "one_hot_data"
   ]
  },
  {
   "cell_type": "markdown",
   "id": "c7a76862",
   "metadata": {},
   "source": [
    "Lastly, we will look at our response variable 'state'"
   ]
  },
  {
   "cell_type": "code",
   "execution_count": 112,
   "id": "048f5a46",
   "metadata": {},
   "outputs": [
    {
     "data": {
      "text/plain": [
       "failed        197716\n",
       "successful    133956\n",
       "canceled       38779\n",
       "undefined       3562\n",
       "live            2799\n",
       "suspended       1845\n",
       "Name: state, dtype: int64"
      ]
     },
     "execution_count": 112,
     "metadata": {},
     "output_type": "execute_result"
    }
   ],
   "source": [
    "ksData['state'].value_counts()"
   ]
  },
  {
   "cell_type": "markdown",
   "id": "a262b7d0",
   "metadata": {},
   "source": [
    "Since we want to test the variables against the failed state, we only want successful and failed.\n",
    "\n",
    "\n",
    "\"live\" and \"undefined\" will be removed, \"canceled\" and \"suspended\" will be added to failed."
   ]
  },
  {
   "cell_type": "code",
   "execution_count": 116,
   "id": "4dba6944",
   "metadata": {},
   "outputs": [],
   "source": [
    "ksData = ksData[ksData[\"state\"].str.contains(\"live\") == False]\n",
    "ksData = ksData[ksData[\"state\"].str.contains(\"undefined\") == False]"
   ]
  },
  {
   "cell_type": "code",
   "execution_count": 117,
   "id": "f3638cb2",
   "metadata": {},
   "outputs": [],
   "source": [
    "ksData['state'] = ksData['state'].replace({'canceled':'failed', 'suspended':'failed'})"
   ]
  },
  {
   "cell_type": "code",
   "execution_count": 118,
   "id": "ccf44260",
   "metadata": {},
   "outputs": [
    {
     "data": {
      "text/plain": [
       "failed        238340\n",
       "successful    133956\n",
       "Name: state, dtype: int64"
      ]
     },
     "execution_count": 118,
     "metadata": {},
     "output_type": "execute_result"
    }
   ],
   "source": [
    "ksData['state'].value_counts()"
   ]
  },
  {
   "cell_type": "markdown",
   "id": "14df6e9d",
   "metadata": {},
   "source": [
    "We can spot an obvious class imbalance here. \n",
    "Since the dataset is sufficiently large, we will undersample the data instead of oversampling it."
   ]
  },
  {
   "cell_type": "code",
   "execution_count": 119,
   "id": "235f080b",
   "metadata": {},
   "outputs": [
    {
     "data": {
      "text/plain": [
       "failed        133956\n",
       "successful    133956\n",
       "Name: state, dtype: int64"
      ]
     },
     "execution_count": 119,
     "metadata": {},
     "output_type": "execute_result"
    }
   ],
   "source": [
    "from sklearn.utils import resample\n",
    "\n",
    "ksData[ksData['state'].str.contains('failed')] = resample(ksData[ksData['state'].str.contains('failed')], replace = False, n_samples = len(ksData[ksData['state'].str.contains('successful')]), random_state = 20)\n",
    "\n",
    "ksData['state'].value_counts()"
   ]
  },
  {
   "cell_type": "code",
   "execution_count": null,
   "id": "35c8de25",
   "metadata": {},
   "outputs": [],
   "source": []
  }
 ],
 "metadata": {
  "kernelspec": {
   "display_name": "Python 3 (ipykernel)",
   "language": "python",
   "name": "python3"
  },
  "language_info": {
   "codemirror_mode": {
    "name": "ipython",
    "version": 3
   },
   "file_extension": ".py",
   "mimetype": "text/x-python",
   "name": "python",
   "nbconvert_exporter": "python",
   "pygments_lexer": "ipython3",
   "version": "3.9.7"
  }
 },
 "nbformat": 4,
 "nbformat_minor": 5
}
